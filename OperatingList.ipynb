{
  "nbformat": 4,
  "nbformat_minor": 0,
  "metadata": {
    "colab": {
      "provenance": [],
      "authorship_tag": "ABX9TyOriOPltXTKC70KqZ34AjAb",
      "include_colab_link": true
    },
    "kernelspec": {
      "name": "python3",
      "display_name": "Python 3"
    },
    "language_info": {
      "name": "python"
    }
  },
  "cells": [
    {
      "cell_type": "markdown",
      "metadata": {
        "id": "view-in-github",
        "colab_type": "text"
      },
      "source": [
        "<a href=\"https://colab.research.google.com/github/Antor7779/PythonHouse/blob/main/OperatingList.ipynb\" target=\"_parent\"><img src=\"https://colab.research.google.com/assets/colab-badge.svg\" alt=\"Open In Colab\"/></a>"
      ]
    },
    {
      "cell_type": "code",
      "execution_count": 5,
      "metadata": {
        "colab": {
          "base_uri": "https://localhost:8080/"
        },
        "id": "pZ02O9YePPYS",
        "outputId": "c29f05ee-0e5a-4324-e2ea-8508415dc2da"
      },
      "outputs": [
        {
          "output_type": "stream",
          "name": "stdout",
          "text": [
            "['car', 'plane', 'train', 'motorcycle', 'bicycle']\n",
            "[1, 2, 3, 8, 9, 11]\n"
          ]
        },
        {
          "output_type": "execute_result",
          "data": {
            "text/plain": [
              "list"
            ]
          },
          "metadata": {},
          "execution_count": 5
        }
      ],
      "source": [
        "newList= []\n",
        "secondList = list()\n",
        "\n",
        "newList = [\"car\",\"plane\",\"train\",\"motorcycle\",\"bicycle\"]\n",
        "secondList=[1,2,3,8,9,11]\n",
        "\n",
        "print(newList)\n",
        "\n",
        "print(secondList)\n",
        "type(secondList)\n",
        "type(newList)"
      ]
    },
    {
      "cell_type": "code",
      "source": [
        "print(len(newList))\n",
        "print(len(secondList))"
      ],
      "metadata": {
        "colab": {
          "base_uri": "https://localhost:8080/"
        },
        "id": "Vmlf86UiQxKa",
        "outputId": "5a0f5d3f-cc95-435e-b067-690e604e3db6"
      },
      "execution_count": 7,
      "outputs": [
        {
          "output_type": "stream",
          "name": "stdout",
          "text": [
            "5\n",
            "6\n"
          ]
        }
      ]
    },
    {
      "cell_type": "code",
      "source": [
        "for i in secondList:\n",
        "  print(i)"
      ],
      "metadata": {
        "colab": {
          "base_uri": "https://localhost:8080/"
        },
        "id": "yfpJm5MQRBbI",
        "outputId": "c034436f-8620-4e6a-816e-c97e30409736"
      },
      "execution_count": 8,
      "outputs": [
        {
          "output_type": "stream",
          "name": "stdout",
          "text": [
            "1\n",
            "2\n",
            "3\n",
            "8\n",
            "9\n",
            "11\n"
          ]
        }
      ]
    },
    {
      "cell_type": "code",
      "source": [
        "for i in newList:\n",
        "  print(i)"
      ],
      "metadata": {
        "colab": {
          "base_uri": "https://localhost:8080/"
        },
        "id": "fHrpg2AzRJHs",
        "outputId": "1f822b98-8669-4b02-cae2-506e6127ca0d"
      },
      "execution_count": 9,
      "outputs": [
        {
          "output_type": "stream",
          "name": "stdout",
          "text": [
            "car\n",
            "plane\n",
            "train\n",
            "motorcycle\n",
            "bicycle\n"
          ]
        }
      ]
    },
    {
      "cell_type": "code",
      "source": [
        "grades= [78,35,79,100,89]\n",
        "secondGrade=[11,34,23,45]\n",
        "\n",
        "len(secondGrade)\n",
        "\n",
        "secondGrade.append(grades)\n",
        "\n",
        "print(secondGrade)\n",
        "len(secondGrade)"
      ],
      "metadata": {
        "colab": {
          "base_uri": "https://localhost:8080/"
        },
        "id": "_mwHErX7Rx0L",
        "outputId": "820dd211-fab0-4107-8c84-1e97a53ae3f1"
      },
      "execution_count": 11,
      "outputs": [
        {
          "output_type": "stream",
          "name": "stdout",
          "text": [
            "[11, 34, 23, 45, [78, 35, 79, 100, 89]]\n"
          ]
        },
        {
          "output_type": "execute_result",
          "data": {
            "text/plain": [
              "5"
            ]
          },
          "metadata": {},
          "execution_count": 11
        }
      ]
    },
    {
      "cell_type": "code",
      "source": [
        "grades= [78,35,79,100,89]\n",
        "secondGrade=[11,34,23,45]\n",
        "\n",
        "for b in grades :\n",
        "  secondGrade.append(b)\n",
        "\n",
        "print(secondGrade)\n",
        "len(secondGrade)"
      ],
      "metadata": {
        "colab": {
          "base_uri": "https://localhost:8080/"
        },
        "id": "A0WIK5yBUEvA",
        "outputId": "abc4e055-9d93-4ab8-b941-2caf6f60e6df"
      },
      "execution_count": 12,
      "outputs": [
        {
          "output_type": "stream",
          "name": "stdout",
          "text": [
            "[11, 34, 23, 45, 78, 35, 79, 100, 89]\n"
          ]
        },
        {
          "output_type": "execute_result",
          "data": {
            "text/plain": [
              "9"
            ]
          },
          "metadata": {},
          "execution_count": 12
        }
      ]
    }
  ]
}